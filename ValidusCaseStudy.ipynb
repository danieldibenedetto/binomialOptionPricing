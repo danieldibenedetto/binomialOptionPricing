{
 "cells": [
  {
   "cell_type": "markdown",
   "metadata": {},
   "source": [
    "# Validus Risk Management Quantitative Research Case Study\n",
    "### Daniel Di Benedetto"
   ]
  },
  {
   "cell_type": "markdown",
   "metadata": {},
   "source": [
    "We start by importing some libraries and functions that we will use to build our functions."
   ]
  },
  {
   "cell_type": "code",
   "execution_count": 1,
   "metadata": {},
   "outputs": [],
   "source": [
    "import numpy as np\n",
    "from scipy.optimize import brentq\n",
    "from scipy.special import comb"
   ]
  },
  {
   "cell_type": "markdown",
   "metadata": {},
   "source": [
    "**Question 1**"
   ]
  },
  {
   "cell_type": "markdown",
   "metadata": {},
   "source": [
    "We calculate the value of a European call option by going through the binomial tree, backwards in time starting at expiration time. At expiration time $N$, the value of the option is simply the pay-off function, namely $max(0,S'-K)$, where $S'$ is the stock price at expiry. For each previous time period, the value can then be uniquely determined by a hedging strategy and the no-aribtrage principle, as in a single period binomial model."
   ]
  },
  {
   "cell_type": "code",
   "execution_count": 2,
   "metadata": {},
   "outputs": [],
   "source": [
    "def EuropeanCallValue(N,v,K):\n",
    "    \n",
    "    # We define the risk-neutral probability \n",
    "    # Since we are assuming no return rate and since we have (1+v) - (1-v) = 2v, the risk-neutral probability\n",
    "    # will always be 1/2\n",
    "    \n",
    "    p = 1/2\n",
    "    \n",
    "    # Initialising an ndarray to store values corresponding to points in the binomial tree\n",
    "    \n",
    "    C = np.zeros((N+1,N+1))\n",
    "    \n",
    "    # Setting the values at time N by the pay-off function\n",
    "    \n",
    "    for i in range(N+1):\n",
    "        C[i,-1] = max(0,(1-v)**i * (1+v)**(N-i) - K)\n",
    "        \n",
    "    # Looping through the tree, calculating the value at each node using the values at the subsequent time period\n",
    "        \n",
    "    for j in range(N-1,-1,-1):\n",
    "        for i in range(j+1):\n",
    "            C[i,j] = p*C[i,j+1] + (1-p)*C[i+1,j+1]\n",
    "    \n",
    "    # The present value is then simply the option value at the base node. \n",
    "            \n",
    "    return C[0,0]"
   ]
  },
  {
   "cell_type": "code",
   "execution_count": 3,
   "metadata": {},
   "outputs": [
    {
     "data": {
      "text/plain": [
       "0.5208125966926171"
      ]
     },
     "execution_count": 3,
     "metadata": {},
     "output_type": "execute_result"
    }
   ],
   "source": [
    "EuropeanCallValue(200,0.1,1)"
   ]
  },
  {
   "cell_type": "markdown",
   "metadata": {},
   "source": [
    "**Question 2**"
   ]
  },
  {
   "cell_type": "markdown",
   "metadata": {},
   "source": [
    "We use the option value binomial formula, keeping $v$ as a variable. By equating this to the call option price and solving for $v$ we obtain the value of $v$ for which the given price is correct, under the assumed binomial model. We solve for $v$ using Brent's root finding method."
   ]
  },
  {
   "cell_type": "code",
   "execution_count": 4,
   "metadata": {},
   "outputs": [],
   "source": [
    "def vCalibration(N=100,K=1,C=0.01770247944927686):\n",
    "    \n",
    "    # Setting a function equal to the difference between the binomial formula price and the given price\n",
    "    \n",
    "    f = lambda v: sum(comb(N,j)*max(0,(1+v)**j * (1-v)**(N-j) - K) for j in range(N+1))/2**N - C\n",
    "    \n",
    "    # Solving for v in the range (0,1) using Brent's method\n",
    "\n",
    "    return brentq(f, 0, 1)"
   ]
  },
  {
   "cell_type": "code",
   "execution_count": 5,
   "metadata": {},
   "outputs": [
    {
     "data": {
      "text/plain": [
       "0.09999999999999286"
      ]
     },
     "execution_count": 5,
     "metadata": {},
     "output_type": "execute_result"
    }
   ],
   "source": [
    "vCalibration(200,1,0.5208125966926171)"
   ]
  },
  {
   "cell_type": "markdown",
   "metadata": {},
   "source": [
    "**Question 3**"
   ]
  },
  {
   "cell_type": "markdown",
   "metadata": {},
   "source": [
    "We solve this in the same way as Question 1, with the only difference being that as we step backwards in time on the tree we now have two options for the value at each node: the value given by the recurrence and the value given by the pay-off function if the option is exercised at that point. The value at a given node is therefore the maximum between these two values."
   ]
  },
  {
   "cell_type": "code",
   "execution_count": 6,
   "metadata": {},
   "outputs": [],
   "source": [
    "def AmericanCallValue(N,v,K):\n",
    "    \n",
    "    # We define the risk-neutral probability \n",
    "    # Since we are assuming no return rate and since we have (1+v) - (1-v) = 2v, the risk-neutral probability\n",
    "    # will always be 1/2\n",
    "    \n",
    "    p = 1/2\n",
    "    \n",
    "    # Initialising an ndarray to store values corresponding to points in the binomial tree\n",
    "\n",
    "    C = np.zeros((N+1,N+1))\n",
    "    \n",
    "    # Storing the stock price at each point in the tree\n",
    "\n",
    "    for j in range(N+1):\n",
    "        for i in range(j+1):\n",
    "            C[i,j] = (1-v)**i * (1+v)**(j-i)\n",
    "    \n",
    "    # Calculating the value at expiry, by the pay-off function\n",
    "    \n",
    "    for i in range(N+1):\n",
    "        C[i,-1] = max(0,C[i,-1] - K)\n",
    "    \n",
    "    # Looping through the tree, calculating the value at each node using the values at the subsequent time period\n",
    "    # and the value of early exercise\n"
    "\n",
    "    for j in range(N-1,-1,-1):\n",
    "        for i in range(j+1):\n",
    "            C[i,j] = max(p*C[i,j+1] + (1-p)*C[i+1,j+1], C[i,j] - K)\n",
    "    \n",
    "    # The present value is then simply the option value at the base node. \n",
    "        \n",
    "    return C[0,0]"
   ]
  },
  {
   "cell_type": "code",
   "execution_count": 7,
   "metadata": {},
   "outputs": [
    {
     "data": {
      "text/plain": [
       "0.5208125966926171"
      ]
     },
     "execution_count": 7,
     "metadata": {},
     "output_type": "execute_result"
    }
   ],
   "source": [
    "AmericanCallValue(200,0.1,1)"
   ]
  },
  {
   "cell_type": "markdown",
   "metadata": {},
   "source": [
    "**Question 4**"
   ]
  },
  {
   "cell_type": "markdown",
   "metadata": {},
   "source": [
    "We start by defining some ancillary functions which capture some relevant combinatorial properties about binomial trees. A *Dyck path* is a path of consecutive up/down steps, such that the path never goes below the starting level and that the total number of ups equals the total number of downs. These are well-studied combinatorial objects and we can use enumerations of Dyck paths to help us calculate certain probabilies in the binomial model."
   ]
  },
  {
   "cell_type": "code",
   "execution_count": 8,
   "metadata": {},
   "outputs": [],
   "source": [
    "# This first function simply returns the total number of Dyck paths of length 2n (note that the length of\n",
    "# a Dyck path will always be even, since the number of ups equals the number of downs)\n",
    "\n",
    "def numberDyckPaths(n):\n",
    "    return comb(2*n,n)/(n+1)\n",
    "\n",
    "# This second function returns the total number of primitive Dyck paths of length 2n, where a Dyck path is \n",
    "# primitive if it only returns to the starting level at the end point\n",
    "\n",
    "def numberPrimitiveDyckPaths(n):\n",
    "    return comb(2*n-2,n-1)/n"
   ]
  },
  {
   "cell_type": "markdown",
   "metadata": {},
   "source": [
    "We calculate the expectation by finding the probability that any point in a binomial tree with N periods is the maximum asset price over the whole N periods. For each point, we first calculate the probability that it is the maximum point *so far* (ignoring what happens for later periods) and then we calculate the probability that it is the maximum point over all remaining periods (ignoring what happened previously). Since the direction of the price movement at each time period is independent of what happens at other time periods, multiplying these two probabilities together gives the probability we are trying to find."
   ]
  },
  {
   "cell_type": "markdown",
   "metadata": {},
   "source": [
    "We calculate each of these probabilities recursively on the binomial tree. For a given point in the binomial tree, if we know the probability of each earlier point in the tree being the highest price yet, then we can find the probability that the given point is the highest price yet using the enumerations of Dyck paths. The key point is that any path which hits a point and for which that point is the highest price yet must have an earlier point as its previous highest price. "
   ]
  },
  {
   "cell_type": "code",
   "execution_count": 9,
   "metadata": {},
   "outputs": [],
   "source": [
    "def expectedMaxPrice(N=100,v=0.1):\n",
    "    \n",
    "    ## Probability of each point in the tree being the highest price yet\n",
    "    \n",
    "    # Initialising an ndarray to store values corresponding to points in the binomial tree\n",
    "    \n",
    "    P1 = np.zeros((N+1,N+1))\n",
    "    \n",
    "    # Setting the nonzero probabilities for the first few time periods\n",
    "    \n",
    "    P1[0,0]=1\n",
    "    P1[0,1]=1\n",
    "    P1[0,2]=1\n",
    "\n",
    "    # Looping through the remaining periods of the tree, at each step calculating the number of valid paths \n",
    "    # using recursion on earlier points and the enumeration of Dyck paths\n",
    "    \n",
    "    for j in range(3,N+1):\n",
    "        for i in range(N+1):\n",
    "            kRange = range(min(i+1,(j-1)//2+1))\n",
    "            P1[i,j] = sum(P1[i-k,j-1-2*k]*numberDyckPaths(k) for k in kRange)\n",
    "\n",
    "    # To turn these into probabilities, we simply need to divide each value by the total possible paths up to\n",
    "    # that time period\n",
    "    \n",
    "    for j in range(N+1):\n",
    "        P1[:,j] = P1[:,j]/2**j\n",
    "        \n",
    "    \n",
    "    \n",
    "    ## Probability of each point in the tree being the highest price from then onwards\n",
    "    \n",
    "    # Initialising an ndarray to store values corresponding to points in the binomial tree\n",
    "                \n",
    "    P2 = np.zeros((N+1,N+1))\n",
    "    \n",
    "    # Setting the probabilities for the last time period\n",
    "\n",
    "    P2[:,-1]=1\n",
    "    \n",
    "    # Looping through the earlier periods of the tree, at each step calculating the number of valid paths \n",
    "    # using recursion on later points and the enumeration of Dyck paths\n",
    "\n",
    "    for j in range(N-1,-1,-1):\n",
    "        for i in range(j,-1,-1):\n",
    "            kRange = range(1,(N-j)//2+1)\n",
    "            P2[i,j] = P2[i+1,j+1] + sum(P2[i+k,j+2*k]*numberPrimitiveDyckPaths(k) for k in kRange)\n",
    "            \n",
    "    # To turn these into probabilities, we simply need to divide each value by the total possible paths for \n",
    "    # the remaining time periods\n",
    "    \n",
    "    for j in range(N+1):\n",
    "        P2[:,j] = P2[:,j]/2**(N-j)\n",
    "        \n",
    "        \n",
    "        \n",
    "    ## Value that we have to multiply each probability by to find the expectation\n",
    "        \n",
    "    # Initialising an ndarray to store values corresponding to points in the binomial tree\n",
    "\n",
    "    S = np.zeros((N+1,N+1))\n",
    "    \n",
    "    # Setting the stock price at the base node of the tree\n",
    "\n",
    "    S[0,0]=1\n",
    "    \n",
    "    # Calculating the stock price at the remaining nodes in the tree, using recursion\n",
    "\n",
    "    for j in range(1,N+1):\n",
    "        for i in range(j+1):\n",
    "            S[i,j] = (1-v)**i *(1+v)**(j-i)\n",
    "            \n",
    "    ## Multiply each point's value by the two probabilities and sum over all points to obtain the expectation\n",
    "\n",
    "    return np.sum(P1*P2*S)"
   ]
  },
  {
   "cell_type": "code",
   "execution_count": 10,
   "metadata": {},
   "outputs": [
    {
     "data": {
      "text/plain": [
       "1.9672837106609662"
      ]
     },
     "execution_count": 10,
     "metadata": {},
     "output_type": "execute_result"
    }
   ],
   "source": [
    "expectedMaxPrice()"
   ]
  },
  {
   "cell_type": "markdown",
   "metadata": {},
   "source": [
    "**Question 5**"
   ]
  },
  {
   "cell_type": "markdown",
   "metadata": {},
   "source": [
    "I think I have the right idea but my implementation isn't quite working. The idea is as follows. \n",
    "\n",
    "Suppose we have $m$ European call options. Let $N_1$ be the expiration time of the first option, $N_1+N_2$ the expiration time of the second option etc. This partitions the $N$ periods into $m$ blocks, where exactly one option from the portfolio expires in each block. For each block, we can then find a unique value $v_i$ corresponding to the up/down factor of the model for that whole block. \n",
    "\n",
    "By considering the first option, we calculate $v_1$ in the same way as Question 2. For the second option, we take each point of the $N_1$th time period as a base node and find the value of the option at each of these nodes by going backwards in time in the same way; these values will be functions of $v_2$, which we keep as a variable. Once we have each of these functions, we can use the value $v_1$ that we've already calculated and the usual method to obtain the present value of the second option, still in terms of $v_2$. Since $v_2$ is the only unknown at this point, we can solve for $v_2$ by equating the value to the option price. Similarly, for the third option, we use $v_1$ and $v_2$ to solve for $v_3$ and by proceeding in this way we can determined each $v_i$."
   ]
  },
  {
   "cell_type": "markdown",
   "metadata": {},
   "source": [
    "Below is my implementation for two options, which I have started to frame in a more general form in order to allow for generalisation to $m$ options. I think it should be possible to extend this implementation to the general case by using recursion to get from the function $f_2$ to the function $g$ and using multi-indexing on the various $(1+v_i),(1-v_i)$ factors."
   ]
  },
  {
   "cell_type": "code",
   "execution_count": 11,
   "metadata": {},
   "outputs": [],
   "source": [
    "def vCalibrationMulti(N, K, C):\n",
    "\n",
    "    m = len(N)\n",
    "    \n",
    "    V = np.zeros(m)\n",
    "\n",
    "    for i in range(1,m+1):    \n",
    "\n",
    "        if i==1:\n",
    "            f1 = lambda v: sum(comb(N[i-1],k)*max(0,(1+v)**k * (1-v)**(N[i-1]-k) - K[i-1]) for k in range(N[i-1]+1))/2**N[i-1] - C[i-1]\n",
    "            V[i-1] = brentq(f1, 0, 1)\n",
    "        else:\n",
    "            j=i\n",
    "            while j > 1:\n",
    "                f2 = lambda v, t: sum(comb(N[j-1],i)*max(0,(1+V[0])**t * (1-V[0])**(N[0]-t) * (1+v)**i * (1-v)**(N[j-1]-i) - K[j-1]) for i in range(N[j-1]+1))/2**(N[j-1])\n",
    "                j -= 1 \n",
    "    \n",
    "            g = lambda v: sum(comb(N[j-1],t)*f2(v,t) for t in range(N[j-1]+1))/2**N[j-1] - C[i-1]\n",
    "        \n",
    "            V[i-1] = brentq(g, 0, 1)\n",
    "    return V"
   ]
  },
  {
   "cell_type": "code",
   "execution_count": 12,
   "metadata": {},
   "outputs": [
    {
     "data": {
      "text/plain": [
       "array([0.01, 0.01])"
      ]
     },
     "execution_count": 12,
     "metadata": {},
     "output_type": "execute_result"
    }
   ],
   "source": [
    "vCalibrationMulti([20,20],[1,1],[0.01770247944927686,0.025183517465599842])"
   ]
  },
  {
   "cell_type": "code",
   "execution_count": null,
   "metadata": {},
   "outputs": [],
   "source": []
  }
 ],
 "metadata": {
  "kernelspec": {
   "display_name": "Python 3",
   "language": "python",
   "name": "python3"
  },
  "language_info": {
   "codemirror_mode": {
    "name": "ipython",
    "version": 3
   },
   "file_extension": ".py",
   "mimetype": "text/x-python",
   "name": "python",
   "nbconvert_exporter": "python",
   "pygments_lexer": "ipython3",
   "version": "3.7.6"
  }
 },
 "nbformat": 4,
 "nbformat_minor": 4
}
